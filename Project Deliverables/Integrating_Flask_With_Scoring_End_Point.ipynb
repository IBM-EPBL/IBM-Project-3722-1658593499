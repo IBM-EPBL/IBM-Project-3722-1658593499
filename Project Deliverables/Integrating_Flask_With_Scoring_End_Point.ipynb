{
  "nbformat": 4,
  "nbformat_minor": 0,
  "metadata": {
    "colab": {
      "provenance": []
    },
    "kernelspec": {
      "name": "python3",
      "display_name": "Python 3"
    },
    "language_info": {
      "name": "python"
    }
  },
  "cells": [
    {
      "cell_type": "code",
      "execution_count": 12,
      "metadata": {
        "colab": {
          "base_uri": "https://localhost:8080/"
        },
        "id": "_qrUlIEEVbP7",
        "outputId": "948a0807-9965-47fc-8418-e7e50eeba63e"
      },
      "outputs": [
        {
          "output_type": "stream",
          "name": "stdout",
          "text": [
            "Scoring response\n",
            "{'predictions': [{'fields': ['prediction', 'probability'], 'values': [[1.0, [0.25, 0.75]]]}]}\n",
            " * Serving Flask app \"__main__\" (lazy loading)\n",
            " * Environment: production\n",
            "\u001b[31m   WARNING: This is a development server. Do not use it in a production deployment.\u001b[0m\n",
            "\u001b[2m   Use a production WSGI server instead.\u001b[0m\n",
            " * Debug mode: off\n"
          ]
        }
      ],
      "source": [
        "from flask import Flask, render_template, request\n",
        "import numpy as np\n",
        "import pickle\n",
        "import requests\n",
        "\n",
        "\n",
        "# NOTE: you must manually set API_KEY below using information retrieved from your IBM Cloud account.\n",
        "API_KEY = \"gZC0vcZ3-z24Z_qMhR_Jt8dsmRIh2QqV5dqlxPrJYNrP\"\n",
        "token_response = requests.post('https://iam.cloud.ibm.com/identity/token', data={\"apikey\":\n",
        " API_KEY, \"grant_type\": 'urn:ibm:params:oauth:grant-type:apikey'})\n",
        "mltoken = token_response.json()[\"access_token\"]\n",
        "\n",
        "header = {'Content-Type': 'application/json', 'Authorization': 'Bearer ' + mltoken}\n",
        "\n",
        "# NOTE: manually define and pass the array(s) of values to be scored in the next line\n",
        "#payload_scoring = {\"input_data\": [{\"field\": [array_of_input_fields], \"values\": [array_of_values_to_be_scored, another_array_of_values_to_be_scored]}]}\n",
        "payload_scoring = {\"input_data\": [{\"field\": [[\"id\",\"age\",\"bp\",\"sg\",\"al\",\"su\",\"rbc\",\"pc\",\"pcc\",\"ba\",\"bgr\",\"bu\",\"sc\",\"sod\",\"pot\",\"hemo\",\"pcv\",\"wc\",\"rc\",\"htn\",\"dm\",\"cad\",\"appet\",\"classification\"]],\"values\": [[11,63,70,1.01,3,0,1,1,1,0,380,60,2.7,131,4.2,10.8,32,4500,3.8,1,1,0,0,1.0]]}]}\n",
        "response_scoring = requests.post('https://us-south.ml.cloud.ibm.com/ml/v4/deployments/fc0ec569-b326-4116-b3da-14bd56458d1a/predictions?version=2022-11-13', json=payload_scoring,\n",
        " headers={'Authorization': 'Bearer ' + mltoken})\n",
        "print(\"Scoring response\")\n",
        "print(response_scoring.json())\n",
        "\n",
        "app = Flask(__name__)\n",
        "model = pickle.load(open('ckd.pkl', 'rb'))\n",
        "\n",
        "@app.route('/',methods=['GET'])\n",
        "def Home():\n",
        "    return render_template('index.html')\n",
        "\n",
        "@app.route(\"/predict\", methods=['POST'])\n",
        "def predict():\n",
        "    if request.method == 'POST':\n",
        "        sg = float(request.form['sg'])\n",
        "        htn = float(request.form['htn'])\n",
        "        hemo = float(request.form['hemo'])\n",
        "        dm = float(request.form['dm'])\n",
        "        al = float(request.form['al'])\n",
        "        appet = float(request.form['appet'])\n",
        "        rc = float(request.form['rc'])\n",
        "        pc = float(request.form['pc'])\n",
        "\n",
        "        values = np.array([[sg, htn, hemo, dm, al, appet, rc, pc]])\n",
        "        prediction = model.predict(values)\n",
        "        print('Hey!!', prediction)\n",
        "        \n",
        "        return render_template('index.html', prediction=prediction)\n",
        "\n",
        "\n",
        "if __name__ == \"__main__\":\n",
        "    app.run()"
      ]
    }
  ]
}